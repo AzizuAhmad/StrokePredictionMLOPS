{
 "cells": [
  {
   "cell_type": "code",
   "execution_count": 1,
   "metadata": {},
   "outputs": [],
   "source": [
    "import pandas as pd\n",
    "import tensorflow as tf\n",
    "import requests\n",
    "import json\n",
    "import base64"
   ]
  },
  {
   "cell_type": "code",
   "execution_count": 15,
   "metadata": {},
   "outputs": [],
   "source": [
    "data = pd.read_csv('data/stroke.csv')\n",
    "\n",
    "ROW_TESTING = 1 \n",
    "\n",
    "STROKE_LABELS = {\n",
    "    0: \"Normal\",\n",
    "    1: \"stroke\"\n",
    "}"
   ]
  },
  {
   "cell_type": "code",
   "execution_count": 16,
   "metadata": {},
   "outputs": [
    {
     "data": {
      "text/plain": [
       "{'gender': 'Female',\n",
       " 'age': 13,\n",
       " 'hypertension': 0,\n",
       " 'heart_disease': 0,\n",
       " 'ever_married': 'No',\n",
       " 'work_type': 'children',\n",
       " 'Residence_type': 'Rural',\n",
       " 'avg_glucose_level': 85.81,\n",
       " 'bmi': 18.6,\n",
       " 'smoking_status': 'Unknown',\n",
       " 'stroke': 0}"
      ]
     },
     "execution_count": 16,
     "metadata": {},
     "output_type": "execute_result"
    }
   ],
   "source": [
    "data_test = data.iloc[ROW_TESTING, :12].to_dict()\n",
    "data_test"
   ]
  },
  {
   "cell_type": "code",
   "execution_count": 17,
   "metadata": {},
   "outputs": [
    {
     "name": "stdout",
     "output_type": "stream",
     "text": [
      "Normal\n"
     ]
    }
   ],
   "source": [
    "stroke_value = data_test[\"stroke\"]\n",
    "stroke_label = STROKE_LABELS.get(stroke_value, \"Unknown\")\n",
    "print(stroke_label)"
   ]
  },
  {
   "cell_type": "code",
   "execution_count": 18,
   "metadata": {},
   "outputs": [
    {
     "data": {
      "text/plain": [
       "{'gender': 'Female',\n",
       " 'age': 13,\n",
       " 'hypertension': 0,\n",
       " 'heart_disease': 0,\n",
       " 'ever_married': 'No',\n",
       " 'work_type': 'children',\n",
       " 'Residence_type': 'Rural',\n",
       " 'avg_glucose_level': 85.81,\n",
       " 'bmi': 18.6,\n",
       " 'smoking_status': 'Unknown'}"
      ]
     },
     "execution_count": 18,
     "metadata": {},
     "output_type": "execute_result"
    }
   ],
   "source": [
    "data_test = data.iloc[ROW_TESTING, :10].to_dict()\n",
    "data_test"
   ]
  },
  {
   "cell_type": "code",
   "execution_count": 19,
   "metadata": {},
   "outputs": [],
   "source": [
    "def prepare_feature_spec(test_input: dict):\n",
    "    feature_spec = {}\n",
    "    for key, value in test_input.items():\n",
    "        if isinstance(value, float):\n",
    "            feature_spec[key] = tf.train.Feature(float_list=tf.train.FloatList(value=[value]))\n",
    "        elif isinstance(value, int):\n",
    "            feature_spec[key] = tf.train.Feature(int64_list=tf.train.Int64List(value=[value]))\n",
    "        elif isinstance(value, str):\n",
    "            feature_spec[key] = tf.train.Feature(bytes_list=tf.train.BytesList(value=[value.encode()]))\n",
    "    return feature_spec\n",
    "\n",
    "def serialize_example(feature_spec):\n",
    "    example = tf.train.Example(features=tf.train.Features(feature=feature_spec))\n",
    "    return example.SerializeToString()\n",
    "\n",
    "def encode_example(example):\n",
    "    return base64.b64encode(example).decode()\n",
    "\n",
    "def prepare_data(test_input):\n",
    "    feature_spec = prepare_feature_spec(test_input)\n",
    "    serialized_example = serialize_example(feature_spec)\n",
    "    encoded_example = encode_example(serialized_example)\n",
    "    return json.dumps({\n",
    "        \"signature_name\": \"serving_default\",\n",
    "        \"instances\": [{\n",
    "            \"examples\": {\"b64\": encoded_example}\n",
    "        }]\n",
    "    })"
   ]
  },
  {
   "cell_type": "code",
   "execution_count": 20,
   "metadata": {},
   "outputs": [
    {
     "name": "stdout",
     "output_type": "stream",
     "text": [
      "Prediction Result: Normal\n",
      "   Actually Label: Normal\n"
     ]
    }
   ],
   "source": [
    "json_data = prepare_data(data_test)\n",
    "\n",
    "endpoint = \"http://103.190.215.127:8501/v1/models/cc-model:predict\"\n",
    "response = requests.post(endpoint, data=json_data)\n",
    "\n",
    "predictions = response.json().get(\"predictions\")\n",
    "result = \"Normal\" if predictions and predictions[0][0] < 0.5 else \"stroke\" if predictions else \"Error: No predictions found.\"\n",
    "\n",
    "print(\"Prediction Result: \" + result)\n",
    "print(\"   Actually Label: \" + stroke_label)"
   ]
  }
 ],
 "metadata": {
  "kernelspec": {
   "display_name": "mlopsProject",
   "language": "python",
   "name": "python3"
  },
  "language_info": {
   "codemirror_mode": {
    "name": "ipython",
    "version": 3
   },
   "file_extension": ".py",
   "mimetype": "text/x-python",
   "name": "python",
   "nbconvert_exporter": "python",
   "pygments_lexer": "ipython3",
   "version": "3.8.18"
  }
 },
 "nbformat": 4,
 "nbformat_minor": 2
}
